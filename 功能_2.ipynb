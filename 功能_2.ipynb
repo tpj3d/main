{
  "nbformat": 4,
  "nbformat_minor": 0,
  "metadata": {
    "colab": {
      "provenance": [],
      "include_colab_link": true
    },
    "kernelspec": {
      "name": "python3",
      "display_name": "Python 3"
    },
    "language_info": {
      "name": "python"
    }
  },
  "cells": [
    {
      "cell_type": "markdown",
      "metadata": {
        "id": "view-in-github",
        "colab_type": "text"
      },
      "source": [
        "<a href=\"https://colab.research.google.com/github/tpj3d/main/blob/main/%E5%8A%9F%E8%83%BD_2.ipynb\" target=\"_parent\"><img src=\"https://colab.research.google.com/assets/colab-badge.svg\" alt=\"Open In Colab\"/></a>"
      ]
    },
    {
      "cell_type": "code",
      "source": [
        "import random\n",
        "from google.colab import drive\n",
        "\n",
        "def load_words(file_path):\n",
        "    word_pairs = []\n",
        "    with open(file_path, 'r') as file:\n",
        "        for line in file:\n",
        "            line = line.strip()\n",
        "            if line:\n",
        "                word1, word2 = line.split(':')\n",
        "                word_pairs.append((word1.strip(), word2.strip()))\n",
        "    return word_pairs\n",
        "\n",
        "def quiz(word_pairs):\n",
        "    while True:\n",
        "        selected_pairs = random.sample(word_pairs, 5)  # 從單字配對中隨機選擇五個\n",
        "        correct_count = 0  # 紀錄答對的數量\n",
        "        \n",
        "        print(\"請配對下列單字：\")\n",
        "        for i, (word1, word2) in enumerate(selected_pairs, start=1):\n",
        "            print(f\"{i}. {word1}\")\n",
        "            print(f\"   {word2}\")\n",
        "        \n",
        "        for i in range(1, 6):\n",
        "            guess = input(f\"請輸入第 {i} 個配對的答案 (1/2/3/4/5)：\")\n",
        "            \n",
        "            if guess.strip() == '':\n",
        "                print(\"請填寫答案！\")\n",
        "                continue\n",
        "            \n",
        "            if guess.isdigit() and 1 <= int(guess) <= 5:\n",
        "                selected_word1, selected_word2 = selected_pairs[int(guess) - 1]\n",
        "                print(f\"您選擇的配對為：{selected_word1} - {selected_word2}\")\n",
        "                \n",
        "                if selected_word1 == selected_word2:\n",
        "                    correct_count += 1\n",
        "            else:\n",
        "                print(\"無效的選擇！請選擇 1、2、3、4 或 5\")\n",
        "        \n",
        "        print(f\"您答對了 {correct_count} 個配對！\")\n",
        "        \n",
        "        play_again = input(\"是否要繼續出題？(是/否) \")\n",
        "        \n",
        "        if play_again.lower() != '是':\n",
        "            break\n",
        "\n",
        "# 連接Google Drive\n",
        "drive.mount('/content/drive')\n",
        "\n",
        "# 指定配對題單字檔案路徑\n",
        "file_path = '/content/drive/My Drive/Colab Notebooks/word_pairs.txt'\n",
        "\n",
        "# 載入配對題單字資料\n",
        "word_pairs = load_words(file_path)\n",
        "\n",
        "# 開始出題\n",
        "quiz(word_pairs)\n"
      ],
      "metadata": {
        "id": "bf8T_yjKIrBd",
        "colab": {
          "base_uri": "https://localhost:8080/",
          "height": 376
        },
        "outputId": "b03f23bc-cad6-4058-e74b-16b99f874675"
      },
      "execution_count": null,
      "outputs": [
        {
          "output_type": "stream",
          "name": "stdout",
          "text": [
            "Drive already mounted at /content/drive; to attempt to forcibly remount, call drive.mount(\"/content/drive\", force_remount=True).\n"
          ]
        },
        {
          "output_type": "error",
          "ename": "FileNotFoundError",
          "evalue": "ignored",
          "traceback": [
            "\u001b[0;31m---------------------------------------------------------------------------\u001b[0m",
            "\u001b[0;31mFileNotFoundError\u001b[0m                         Traceback (most recent call last)",
            "\u001b[0;32m<ipython-input-2-97b7aa4269e2>\u001b[0m in \u001b[0;36m<cell line: 54>\u001b[0;34m()\u001b[0m\n\u001b[1;32m     52\u001b[0m \u001b[0;34m\u001b[0m\u001b[0m\n\u001b[1;32m     53\u001b[0m \u001b[0;31m# 載入配對題單字資料\u001b[0m\u001b[0;34m\u001b[0m\u001b[0;34m\u001b[0m\u001b[0m\n\u001b[0;32m---> 54\u001b[0;31m \u001b[0mword_pairs\u001b[0m \u001b[0;34m=\u001b[0m \u001b[0mload_words\u001b[0m\u001b[0;34m(\u001b[0m\u001b[0mfile_path\u001b[0m\u001b[0;34m)\u001b[0m\u001b[0;34m\u001b[0m\u001b[0;34m\u001b[0m\u001b[0m\n\u001b[0m\u001b[1;32m     55\u001b[0m \u001b[0;34m\u001b[0m\u001b[0m\n\u001b[1;32m     56\u001b[0m \u001b[0;31m# 開始出題\u001b[0m\u001b[0;34m\u001b[0m\u001b[0;34m\u001b[0m\u001b[0m\n",
            "\u001b[0;32m<ipython-input-2-97b7aa4269e2>\u001b[0m in \u001b[0;36mload_words\u001b[0;34m(file_path)\u001b[0m\n\u001b[1;32m      4\u001b[0m \u001b[0;32mdef\u001b[0m \u001b[0mload_words\u001b[0m\u001b[0;34m(\u001b[0m\u001b[0mfile_path\u001b[0m\u001b[0;34m)\u001b[0m\u001b[0;34m:\u001b[0m\u001b[0;34m\u001b[0m\u001b[0;34m\u001b[0m\u001b[0m\n\u001b[1;32m      5\u001b[0m     \u001b[0mword_pairs\u001b[0m \u001b[0;34m=\u001b[0m \u001b[0;34m[\u001b[0m\u001b[0;34m]\u001b[0m\u001b[0;34m\u001b[0m\u001b[0;34m\u001b[0m\u001b[0m\n\u001b[0;32m----> 6\u001b[0;31m     \u001b[0;32mwith\u001b[0m \u001b[0mopen\u001b[0m\u001b[0;34m(\u001b[0m\u001b[0mfile_path\u001b[0m\u001b[0;34m,\u001b[0m \u001b[0;34m'r'\u001b[0m\u001b[0;34m)\u001b[0m \u001b[0;32mas\u001b[0m \u001b[0mfile\u001b[0m\u001b[0;34m:\u001b[0m\u001b[0;34m\u001b[0m\u001b[0;34m\u001b[0m\u001b[0m\n\u001b[0m\u001b[1;32m      7\u001b[0m         \u001b[0;32mfor\u001b[0m \u001b[0mline\u001b[0m \u001b[0;32min\u001b[0m \u001b[0mfile\u001b[0m\u001b[0;34m:\u001b[0m\u001b[0;34m\u001b[0m\u001b[0;34m\u001b[0m\u001b[0m\n\u001b[1;32m      8\u001b[0m             \u001b[0mline\u001b[0m \u001b[0;34m=\u001b[0m \u001b[0mline\u001b[0m\u001b[0;34m.\u001b[0m\u001b[0mstrip\u001b[0m\u001b[0;34m(\u001b[0m\u001b[0;34m)\u001b[0m\u001b[0;34m\u001b[0m\u001b[0;34m\u001b[0m\u001b[0m\n",
            "\u001b[0;31mFileNotFoundError\u001b[0m: [Errno 2] No such file or directory: '/content/drive/My Drive/Colab Notebooks/word_pairs.txt'"
          ]
        }
      ]
    },
    {
      "cell_type": "code",
      "source": [],
      "metadata": {
        "id": "QSnxIDYq6TUB"
      },
      "execution_count": null,
      "outputs": []
    },
    {
      "cell_type": "code",
      "source": [
        "import random\n",
        "\n",
        "def load_words(file_path):\n",
        "    word_dict = {}\n",
        "    with open(file_path, 'r') as file:\n",
        "        for line in file:\n",
        "            line = line.strip()\n",
        "            if line:\n",
        "                word, translation = line.split(':')\n",
        "                word_dict[word.strip()] = translation.strip()\n",
        "    return word_dict\n",
        "\n",
        "def quiz(word_dict):\n",
        "    while True:\n",
        "        word = random.choice(list(word_dict.keys()))\n",
        "        answer = word_dict[word]\n",
        "        \n",
        "        print(\"單字：\", word)\n",
        "        \n",
        "        guess = input(\"請輸入單字的中文翻譯：\")\n",
        "        \n",
        "        if guess.strip() == '':\n",
        "            print(\"請填寫答案！\")\n",
        "            continue\n",
        "        \n",
        "        if guess == answer:\n",
        "            print(\"正確！\")\n",
        "        else:\n",
        "            print(\"錯誤！正確答案是：\", answer)\n",
        "        \n",
        "        play_again = input(\"是否要繼續出題？(是/否) \")\n",
        "        \n",
        "        if play_again.lower() != '是':\n",
        "            break\n",
        "\n",
        "# 指定 output.txt 檔案路徑\n",
        "file_path = '/content/drive/My Drive/Colab Notebooks//english_words.txt'\n",
        "\n",
        "# 載入單字資料\n",
        "word_dict = load_words(file_path)\n",
        "\n",
        "# 開始出題\n",
        "quiz(word_dict)\n"
      ],
      "metadata": {
        "colab": {
          "base_uri": "https://localhost:8080/"
        },
        "id": "ZbYlzHoG9xAC",
        "outputId": "727a1c4d-b71d-4d82-c5fa-b2ee0ef85394"
      },
      "execution_count": null,
      "outputs": [
        {
          "name": "stdout",
          "output_type": "stream",
          "text": [
            "單字： star\n",
            "請輸入單字的中文翻譯：星星\n",
            "正確！\n",
            "是否要繼續出題？(是/否) 是\n",
            "單字： language\n",
            "請輸入單字的中文翻譯：語言\n",
            "正確！\n",
            "是否要繼續出題？(是/否) 否\n"
          ]
        }
      ]
    }
  ]
}